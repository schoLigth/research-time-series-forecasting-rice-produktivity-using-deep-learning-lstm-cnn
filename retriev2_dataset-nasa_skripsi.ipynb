{
  "cells": [
    {
      "cell_type": "markdown",
      "metadata": {
        "id": "xTW6ApsBnCuN"
      },
      "source": [
        "Link: https://power.larc.nasa.gov/data-access-viewer/"
      ]
    },
    {
      "cell_type": "markdown",
      "metadata": {
        "id": "Z1gxIEX7rwOr"
      },
      "source": [
        "# 1. Get the agroclimatologi data in daily from 2018-2022 for 27 city"
      ]
    },
    {
      "cell_type": "markdown",
      "source": [
        "# for 20 parameters"
      ],
      "metadata": {
        "id": "38--iBry1huv"
      }
    },
    {
      "cell_type": "code",
      "execution_count": null,
      "metadata": {
        "id": "yr6m0XzG6h9X"
      },
      "outputs": [],
      "source": [
        "# import requests\n",
        "# import pandas as pd\n",
        "# from datetime import datetime\n",
        "\n",
        "# # List of 27 districts/cities in West Java Province with coordinates (latitude, longitude)\n",
        "# locations = [\n",
        "#     {\"name\": \"Bandung\", \"lat\": -6.917464, \"lon\": 107.619123},\n",
        "#     {\"name\": \"Bekasi\", \"lat\": -6.238270, \"lon\": 106.975572},\n",
        "#     {\"name\": \"Bogor\", \"lat\": -6.595038, \"lon\": 106.816635},\n",
        "#     {\"name\": \"Ciamis\", \"lat\": -7.326221, \"lon\": 108.353737},\n",
        "#     {\"name\": \"Cianjur\", \"lat\": -6.816579, \"lon\": 107.142367},\n",
        "#     {\"name\": \"Cimahi\", \"lat\": -6.872209, \"lon\": 107.542401},\n",
        "#     {\"name\": \"Cirebon\", \"lat\": -6.732023, \"lon\": 108.552316},\n",
        "#     {\"name\": \"Depok\", \"lat\": -6.402484, \"lon\": 106.794241},\n",
        "#     {\"name\": \"Garut\", \"lat\": -7.202967, \"lon\": 107.905548},\n",
        "#     {\"name\": \"Indramayu\", \"lat\": -6.327583, \"lon\": 108.324849},\n",
        "#     {\"name\": \"Karawang\", \"lat\": -6.323338, \"lon\": 107.337579},\n",
        "#     {\"name\": \"Kuningan\", \"lat\": -6.979735, \"lon\": 108.483091},\n",
        "#     {\"name\": \"Majalengka\", \"lat\": -6.837654, \"lon\": 108.227136},\n",
        "#     {\"name\": \"Pangandaran\", \"lat\": -7.613702, \"lon\": 108.496964},\n",
        "#     {\"name\": \"Purwakarta\", \"lat\": -6.540802, \"lon\": 107.446556},\n",
        "#     {\"name\": \"Subang\", \"lat\": -6.575448, \"lon\": 107.761460},\n",
        "#     {\"name\": \"Sukabumi\", \"lat\": -6.919320, \"lon\": 106.927506},\n",
        "#     {\"name\": \"Sumedang\", \"lat\": -6.850743, \"lon\": 107.922792},\n",
        "#     {\"name\": \"Tasikmalaya\", \"lat\": -7.350594, \"lon\": 108.217163},\n",
        "#     {\"name\": \"Banjar\", \"lat\": -7.374949, \"lon\": 108.534549},\n",
        "#     {\"name\": \"Bandung Barat\", \"lat\": -6.872094, \"lon\": 107.548441},\n",
        "#     {\"name\": \"Bekasi (Kabupaten)\", \"lat\": -6.248360, \"lon\": 107.132744},\n",
        "#     {\"name\": \"Bogor (Kabupaten)\", \"lat\": -6.472470, \"lon\": 106.819965},\n",
        "#     {\"name\": \"Cianjur (Kabupaten)\", \"lat\": -6.813627, \"lon\": 107.142372},\n",
        "#     {\"name\": \"Cirebon (Kabupaten)\", \"lat\": -6.731856, \"lon\": 108.552315},\n",
        "#     {\"name\": \"Indramayu (Kabupaten)\", \"lat\": -6.327583, \"lon\": 108.324849},\n",
        "#     {\"name\": \"Sukabumi (Kabupaten)\", \"lat\": -6.919320, \"lon\": 106.927506}\n",
        "# ]\n",
        "\n",
        "# # 33 parameters to be retrieved from NASA POWER\n",
        "# parameters = [\n",
        "#     \"QV2M\", \"RH2M\", \"PRECTOTCORR\", \"PS\", \"WS2M\", \"WS2M_MAX\", \"WS2M_MIN\", \"WS2M_RANGE\",\n",
        "#     \"WD2M\", \"WS10M\", \"WS10M_MAX\", \"WS10M_MIN\", \"WS10M_RANGE\", \"WD10M\", \"GWETTOP\", \"GWETROOT\",\n",
        "#     \"GWETPROF\", \"ALLSKY_SFC_SW_DWN\", \"CLRSKY_SFC_SW_DWN\", \"TOA_SW_DWN\",\n",
        "#     # \"ALLSKY_SFC_PAR_TOT\", \"CLRSKY_SFC_PAR_TOT\", \"ALLSKY_SFC_UVA\", \"ALLSKY_SFC_UVB\", \"ALLSKY_SFC_UV_INDEX\",\n",
        "#     # \"T2M\", \"T2MDEW\", \"T2MWET\", \"TS\", \"T2M_RANGE\", \"T2M_MAX\", \"T2M_MIN\", \"ALLSKY_SFC_LW_DWN\"\n",
        "# ]\n",
        "\n",
        "# # URL NASA POWER API\n",
        "# url = \"https://power.larc.nasa.gov/api/temporal/daily/point\"\n",
        "\n",
        "# # Function to retrieve data from NASA POWER for one location+-\n",
        "# def fetch_nasa_power_data(lat, lon, start_date, end_date):\n",
        "#     params = {\n",
        "#         \"start\": start_date,\n",
        "#         \"end\": end_date,\n",
        "#         \"latitude\": lat,\n",
        "#         \"longitude\": lon,\n",
        "#         \"community\": \"AG\",\n",
        "#         \"parameters\": \",\".join(parameters),\n",
        "#         \"format\": \"JSON\",\n",
        "#         \"header\": \"true\",\n",
        "#         \"time-standard\": \"UTC\"\n",
        "#     }\n",
        "\n",
        "#     response = requests.get(url, params=params)\n",
        "#     data = response.json()\n",
        "\n",
        "#     # Check if any data is received\n",
        "#     if \"properties\" in data and \"parameter\" in data[\"properties\"]:\n",
        "#         df = pd.DataFrame(data[\"properties\"][\"parameter\"])\n",
        "#         df[\"date\"] = pd.to_datetime(df.index)\n",
        "#         return df\n",
        "#     else:\n",
        "#         print(f\"Data not found for location: {lat}, {lon}\")\n",
        "#         return pd.DataFrame()\n",
        "\n",
        "# # Start and end dates for the data to be retrieved (2018-2022)\n",
        "# start_date = \"20180101\"\n",
        "# end_date = \"20221231\"\n",
        "\n",
        "# # Retrieved data for all locations\n",
        "# all_data = []\n",
        "# for location in locations:\n",
        "#     print(f\"Fetching data for {location['name']}...\")\n",
        "#     data = fetch_nasa_power_data(location[\"lat\"], location[\"lon\"], start_date, end_date)\n",
        "#     data[\"location\"] = location[\"name\"]\n",
        "#     all_data.append(data)\n",
        "\n",
        "# # Merge data from all locations into one DataFrame\n",
        "# combined_data = pd.concat(all_data, ignore_index=True)\n",
        "\n",
        "# # Save dataframe to file CSV\n",
        "# combined_data.to_csv(\"nasa_power_data_jawa_barat.csv\", index=False)\n",
        "\n",
        "# print(\"Data retrieval complete and saved to nasa_power_data_jawa_barat.csv\")\n"
      ]
    },
    {
      "cell_type": "code",
      "source": [
        "import requests\n",
        "import pandas as pd\n",
        "from datetime import datetime\n",
        "\n",
        "# List of 27 districts/cities in West Java Province with coordinates (latitude, longitude)\n",
        "locations = [\n",
        "    {\"name\": \"Kabupaten Bogor\", \"lat\": -6.917464, \"lon\": 107.619123},\n",
        "    {\"name\": \"Kabupaten Sukabumi\", \"lat\": -6.238270, \"lon\": 106.975572},\n",
        "    {\"name\": \"Kabupaten Cianjur\", \"lat\": -6.595038, \"lon\": 106.816635},\n",
        "    {\"name\": \"Kabupaten Bandung\", \"lat\": -7.326221, \"lon\": 108.353737},\n",
        "    {\"name\": \"Kabupaten Garut\", \"lat\": -6.816579, \"lon\": 107.142367},\n",
        "    {\"name\": \"Kabupaten Tasikmalaya\", \"lat\": -6.872209, \"lon\": 107.542401},\n",
        "    {\"name\": \"Kabupaten Ciamis\", \"lat\": -6.732023, \"lon\": 108.552316},\n",
        "    {\"name\": \"Kabupaten Kuningan\", \"lat\": -6.402484, \"lon\": 106.794241},\n",
        "    {\"name\": \"Kabupaten Cirebon\", \"lat\": -7.202967, \"lon\": 107.905548},\n",
        "    {\"name\": \"Kabupaten Majalengka\", \"lat\": -6.327583, \"lon\": 108.324849},\n",
        "    {\"name\": \"Kabupaten Sumedang\", \"lat\": -6.323338, \"lon\": 107.337579},\n",
        "    {\"name\": \"Kabupaten Indramayu\", \"lat\": -6.979735, \"lon\": 108.483091},\n",
        "    {\"name\": \"Kabupaten Subang\", \"lat\": -6.837654, \"lon\": 108.227136},\n",
        "    {\"name\": \"Kabupaten Purwakarta\", \"lat\": -7.613702, \"lon\": 108.496964},\n",
        "    {\"name\": \"Kabupaten Karawang\", \"lat\": -6.540802, \"lon\": 107.446556},\n",
        "    {\"name\": \"Kabupaten Bekasi\", \"lat\": -6.575448, \"lon\": 107.761460},\n",
        "    {\"name\": \"Kabupaten Bandung Barat\", \"lat\": -6.919320, \"lon\": 106.927506},\n",
        "    {\"name\": \"Kabupaten Pangandaran\", \"lat\": -6.850743, \"lon\": 107.922792},\n",
        "    {\"name\": \"Kota Bogor\", \"lat\": -7.350594, \"lon\": 108.217163},\n",
        "    {\"name\": \"Kota Sukabumi\", \"lat\": -7.374949, \"lon\": 108.534549},\n",
        "    {\"name\": \"Kota Bandung\", \"lat\": -6.872094, \"lon\": 107.548441},\n",
        "    {\"name\": \"Kota Cirebon\", \"lat\": -6.248360, \"lon\": 107.132744},\n",
        "    {\"name\": \"Kota Bekasi\", \"lat\": -6.472470, \"lon\": 106.819965},\n",
        "    {\"name\": \"Kota Depok\", \"lat\": -6.813627, \"lon\": 107.142372},\n",
        "    {\"name\": \"Kota Cimahi\", \"lat\": -6.731856, \"lon\": 108.552315},\n",
        "    {\"name\": \"Kota Tasikmalaya\", \"lat\": -6.327583, \"lon\": 108.324849},\n",
        "    {\"name\": \"Kota Banjar\", \"lat\": -6.919320, \"lon\": 106.927506}\n",
        "]\n",
        "\n",
        "# 33 parameters to be retrieved from NASA POWER\n",
        "parameters = [\n",
        "    \"QV2M\", \"RH2M\", \"PRECTOTCORR\", \"PS\", \"WS2M\", \"WS2M_MAX\", \"WS2M_MIN\", \"WS2M_RANGE\",\n",
        "    \"WD2M\", \"WS10M\", \"WS10M_MAX\", \"WS10M_MIN\", \"WS10M_RANGE\", \"WD10M\", \"GWETTOP\", \"GWETROOT\",\n",
        "    \"GWETPROF\", \"ALLSKY_SFC_SW_DWN\", \"CLRSKY_SFC_SW_DWN\", \"TOA_SW_DWN\",\n",
        "    # \"ALLSKY_SFC_PAR_TOT\", \"CLRSKY_SFC_PAR_TOT\", \"ALLSKY_SFC_UVA\", \"ALLSKY_SFC_UVB\", \"ALLSKY_SFC_UV_INDEX\",\n",
        "    # \"T2M\", \"T2MDEW\", \"T2MWET\", \"TS\", \"T2M_RANGE\", \"T2M_MAX\", \"T2M_MIN\", \"ALLSKY_SFC_LW_DWN\"\n",
        "]\n",
        "\n",
        "# URL NASA POWER API\n",
        "url = \"https://power.larc.nasa.gov/api/temporal/daily/point\"\n",
        "\n",
        "# Function to retrieve data from NASA POWER for one location+-\n",
        "def fetch_nasa_power_data(lat, lon, start_date, end_date):\n",
        "    params = {\n",
        "        \"start\": start_date,\n",
        "        \"end\": end_date,\n",
        "        \"latitude\": lat,\n",
        "        \"longitude\": lon,\n",
        "        \"community\": \"AG\",\n",
        "        \"parameters\": \",\".join(parameters),\n",
        "        \"format\": \"JSON\",\n",
        "        \"header\": \"true\",\n",
        "        \"time-standard\": \"UTC\"\n",
        "    }\n",
        "\n",
        "    response = requests.get(url, params=params)\n",
        "    data = response.json()\n",
        "\n",
        "    # Check if any data is received\n",
        "    if \"properties\" in data and \"parameter\" in data[\"properties\"]:\n",
        "        df = pd.DataFrame(data[\"properties\"][\"parameter\"])\n",
        "        df[\"date\"] = pd.to_datetime(df.index)\n",
        "        return df\n",
        "    else:\n",
        "        print(f\"Data not found for location: {lat}, {lon}\")\n",
        "        return pd.DataFrame()\n",
        "\n",
        "# Start and end dates for the data to be retrieved (2018-2022)\n",
        "start_date = \"20180101\"\n",
        "end_date = \"20231231\"\n",
        "\n",
        "# Retrieved data for all locations\n",
        "all_data = []\n",
        "for location in locations:\n",
        "    print(f\"Fetching data for {location['name']}...\")\n",
        "    data = fetch_nasa_power_data(location[\"lat\"], location[\"lon\"], start_date, end_date)\n",
        "    data[\"location\"] = location[\"name\"]\n",
        "    all_data.append(data)\n",
        "\n",
        "# Merge data from all locations into one DataFrame\n",
        "combined_data = pd.concat(all_data, ignore_index=True)\n",
        "\n",
        "# Save dataframe to file CSV\n",
        "combined_data.to_csv(\"nasa_power_data_jawa_barat.csv\", index=False)\n",
        "\n",
        "print(\"Data retrieval complete and saved to nasa_power_data_jawa_barat.csv\")\n"
      ],
      "metadata": {
        "id": "dx1MVJI6Vt6K"
      },
      "execution_count": null,
      "outputs": []
    },
    {
      "cell_type": "code",
      "execution_count": null,
      "metadata": {
        "id": "SjZS19We6lhd"
      },
      "outputs": [],
      "source": [
        "df1 = pd.read_csv('nasa_power_data_jawa_barat.csv', sep=',')\n",
        "df1.head()"
      ]
    },
    {
      "cell_type": "code",
      "execution_count": null,
      "metadata": {
        "id": "IbhMV5tNijeJ"
      },
      "outputs": [],
      "source": [
        "df1.info()"
      ]
    },
    {
      "cell_type": "markdown",
      "source": [
        "# for another 14 paramaters"
      ],
      "metadata": {
        "id": "71cObJ0M1l_K"
      }
    },
    {
      "cell_type": "code",
      "source": [
        "import requests\n",
        "import pandas as pd\n",
        "from datetime import datetime\n",
        "\n",
        "# List of 27 districts/cities in West Java Province with coordinates (latitude, longitude)\n",
        "locations = [\n",
        "    {\"name\": \"Kabupaten Bogor\", \"lat\": -6.917464, \"lon\": 107.619123},\n",
        "    {\"name\": \"Kabupaten Sukabumi\", \"lat\": -6.238270, \"lon\": 106.975572},\n",
        "    {\"name\": \"Kabupaten Cianjur\", \"lat\": -6.595038, \"lon\": 106.816635},\n",
        "    {\"name\": \"Kabupaten Bandung\", \"lat\": -7.326221, \"lon\": 108.353737},\n",
        "    {\"name\": \"Kabupaten Garut\", \"lat\": -6.816579, \"lon\": 107.142367},\n",
        "    {\"name\": \"Kabupaten Tasikmalaya\", \"lat\": -6.872209, \"lon\": 107.542401},\n",
        "    {\"name\": \"Kabupaten Ciamis\", \"lat\": -6.732023, \"lon\": 108.552316},\n",
        "    {\"name\": \"Kabupaten Kuningan\", \"lat\": -6.402484, \"lon\": 106.794241},\n",
        "    {\"name\": \"Kabupaten Cirebon\", \"lat\": -7.202967, \"lon\": 107.905548},\n",
        "    {\"name\": \"Kabupaten Majalengka\", \"lat\": -6.327583, \"lon\": 108.324849},\n",
        "    {\"name\": \"Kabupaten Sumedang\", \"lat\": -6.323338, \"lon\": 107.337579},\n",
        "    {\"name\": \"Kabupaten Indramayu\", \"lat\": -6.979735, \"lon\": 108.483091},\n",
        "    {\"name\": \"Kabupaten Subang\", \"lat\": -6.837654, \"lon\": 108.227136},\n",
        "    {\"name\": \"Kabupaten Purwakarta\", \"lat\": -7.613702, \"lon\": 108.496964},\n",
        "    {\"name\": \"Kabupaten Karawang\", \"lat\": -6.540802, \"lon\": 107.446556},\n",
        "    {\"name\": \"Kabupaten Bekasi\", \"lat\": -6.575448, \"lon\": 107.761460},\n",
        "    {\"name\": \"Kabupaten Bandung Barat\", \"lat\": -6.919320, \"lon\": 106.927506},\n",
        "    {\"name\": \"Kabupaten Pangandaran\", \"lat\": -6.850743, \"lon\": 107.922792},\n",
        "    {\"name\": \"Kota Bogor\", \"lat\": -7.350594, \"lon\": 108.217163},\n",
        "    {\"name\": \"Kota Sukabumi\", \"lat\": -7.374949, \"lon\": 108.534549},\n",
        "    {\"name\": \"Kota Bandung\", \"lat\": -6.872094, \"lon\": 107.548441},\n",
        "    {\"name\": \"Kota Cirebon\", \"lat\": -6.248360, \"lon\": 107.132744},\n",
        "    {\"name\": \"Kota Bekasi\", \"lat\": -6.472470, \"lon\": 106.819965},\n",
        "    {\"name\": \"Kota Depok\", \"lat\": -6.813627, \"lon\": 107.142372},\n",
        "    {\"name\": \"Kota Cimahi\", \"lat\": -6.731856, \"lon\": 108.552315},\n",
        "    {\"name\": \"Kota Tasikmalaya\", \"lat\": -6.327583, \"lon\": 108.324849},\n",
        "    {\"name\": \"Kota Banjar\", \"lat\": -6.919320, \"lon\": 106.927506}\n",
        "]\n",
        "\n",
        "# 33 parameters to be retrieved from NASA POWER\n",
        "parameters = [\n",
        "    # \"QV2M\", \"RH2M\", \"PRECTOTCORR\", \"PS\", \"WS2M\", \"WS2M_MAX\", \"WS2M_MIN\", \"WS2M_RANGE\",\n",
        "    # \"WD2M\", \"WS10M\", \"WS10M_MAX\", \"WS10M_MIN\", \"WS10M_RANGE\", \"WD10M\", \"GWETTOP\", \"GWETROOT\",\n",
        "    # \"GWETPROF\", \"ALLSKY_SFC_SW_DWN\", \"CLRSKY_SFC_SW_DWN\", \"TOA_SW_DWN\",\n",
        "    \"ALLSKY_SFC_PAR_TOT\", \"CLRSKY_SFC_PAR_TOT\", \"ALLSKY_SFC_UVA\", \"ALLSKY_SFC_UVB\", \"ALLSKY_SFC_UV_INDEX\",\n",
        "    \"T2M\", \"T2MDEW\", \"T2MWET\", \"TS\", \"T2M_RANGE\", \"T2M_MAX\", \"T2M_MIN\", \"ALLSKY_SFC_LW_DWN\"\n",
        "]\n",
        "\n",
        "# URL NASA POWER API\n",
        "url = \"https://power.larc.nasa.gov/api/temporal/daily/point\"\n",
        "\n",
        "# Function to retrieve data from NASA POWER for one location+-\n",
        "def fetch_nasa_power_data(lat, lon, start_date, end_date):\n",
        "    params = {\n",
        "        \"start\": start_date,\n",
        "        \"end\": end_date,\n",
        "        \"latitude\": lat,\n",
        "        \"longitude\": lon,\n",
        "        \"community\": \"AG\",\n",
        "        \"parameters\": \",\".join(parameters),\n",
        "        \"format\": \"JSON\",\n",
        "        \"header\": \"true\",\n",
        "        \"time-standard\": \"UTC\"\n",
        "    }\n",
        "\n",
        "    response = requests.get(url, params=params)\n",
        "    data = response.json()\n",
        "\n",
        "    # Check if any data is received\n",
        "    if \"properties\" in data and \"parameter\" in data[\"properties\"]:\n",
        "        df = pd.DataFrame(data[\"properties\"][\"parameter\"])\n",
        "        df[\"date\"] = pd.to_datetime(df.index)\n",
        "        return df\n",
        "    else:\n",
        "        print(f\"Data not found for location: {lat}, {lon}\")\n",
        "        return pd.DataFrame()\n",
        "\n",
        "# Start and end dates for the data to be retrieved (2018-2022)\n",
        "start_date = \"20180101\"\n",
        "end_date = \"20231231\"\n",
        "\n",
        "# Retrieved data for all locations\n",
        "all_data = []\n",
        "for location in locations:\n",
        "    print(f\"Fetching data for {location['name']}...\")\n",
        "    data = fetch_nasa_power_data(location[\"lat\"], location[\"lon\"], start_date, end_date)\n",
        "    data[\"location\"] = location[\"name\"]\n",
        "    all_data.append(data)\n",
        "\n",
        "# Merge data from all locations into one DataFrame\n",
        "combined_data = pd.concat(all_data, ignore_index=True)\n",
        "\n",
        "# Save dataframe to file CSV\n",
        "combined_data.to_csv(\"nasa_power_data_jawa_barat2.csv\", index=False)\n",
        "\n",
        "print(\"Data retrieval complete and saved to nasa_power_data_jawa_barat2.csv\")"
      ],
      "metadata": {
        "id": "NC5EUWv1zPtS"
      },
      "execution_count": null,
      "outputs": []
    },
    {
      "cell_type": "code",
      "source": [
        "df2 = pd.read_csv('nasa_power_data_jawa_barat2.csv', sep=',')\n",
        "df2.head()"
      ],
      "metadata": {
        "id": "tgQ3zYr_zsez"
      },
      "execution_count": null,
      "outputs": []
    },
    {
      "cell_type": "code",
      "source": [
        "df2.info()"
      ],
      "metadata": {
        "id": "6L-6XAKA0xJD"
      },
      "execution_count": null,
      "outputs": []
    },
    {
      "cell_type": "markdown",
      "source": [
        "# 2. Merge the two csv files"
      ],
      "metadata": {
        "id": "DRor2YN304o-"
      }
    },
    {
      "cell_type": "code",
      "source": [
        "import pandas as pd\n",
        "\n",
        "# Menggabungkan dua DataFrame berdasarkan 'date' dan 'location'\n",
        "merged = pd.merge(df1, df2, on=['date', 'location'])\n",
        "\n",
        "# Menyimpan DataFrame yang telah digabungkan ke file CSV baru\n",
        "merged.to_csv('agroclimatology_data_of_Jawa_Barat.csv', index=False)"
      ],
      "metadata": {
        "id": "UlE1VO-K00oj"
      },
      "execution_count": null,
      "outputs": []
    },
    {
      "cell_type": "code",
      "source": [
        "df3 = pd.read_csv('agroclimatology_data_of_Jawa_Barat.csv', sep=',')\n",
        "df3.head()"
      ],
      "metadata": {
        "id": "bWH551Pu12Gm"
      },
      "execution_count": null,
      "outputs": []
    },
    {
      "cell_type": "markdown",
      "source": [
        "# Make 'date' and 'locations' in column 1 and 2"
      ],
      "metadata": {
        "id": "8TBPIcw03XmC"
      }
    },
    {
      "cell_type": "code",
      "source": [
        "# Get all columns from dataframe\n",
        "cols = df3.columns.tolist()\n",
        "\n",
        "# Remove 'date' and 'location' from column list\n",
        "cols.remove('date')\n",
        "cols.remove('location')\n",
        "\n",
        "# Rechange column of list and put 'date' and 'location' to first column\n",
        "cols = ['date', 'location'] + cols\n",
        "\n",
        "# Rechange dataframe with new columns list\n",
        "df3 = df3[cols]"
      ],
      "metadata": {
        "id": "642iUH7P2lqU"
      },
      "execution_count": null,
      "outputs": []
    },
    {
      "cell_type": "code",
      "source": [
        "df3.head()"
      ],
      "metadata": {
        "id": "okr8vlx-8Atf"
      },
      "execution_count": null,
      "outputs": []
    },
    {
      "cell_type": "code",
      "source": [
        "df3.info()"
      ],
      "metadata": {
        "id": "HECdQeZI1-84"
      },
      "execution_count": null,
      "outputs": []
    },
    {
      "cell_type": "markdown",
      "source": [
        "# 4. Change from daily to montly data time"
      ],
      "metadata": {
        "id": "OjtyjUuP5Mg-"
      }
    },
    {
      "cell_type": "code",
      "source": [
        "# Ubah kolom 'date' menjadi tipe data datetime\n",
        "df3['date'] = pd.to_datetime(df3['date'], format='%Y-%m-%d')\n",
        "\n",
        "# Mengatur 'date' sebagai index\n",
        "df3.set_index('date', inplace=True)\n",
        "\n",
        "# Inisialisasi DataFrame kosong untuk hasil akhir\n",
        "df_monthly = pd.DataFrame()\n",
        "\n",
        "# Loop melalui setiap kota unik dalam kolom 'location'\n",
        "for location in df3['location'].unique():\n",
        "    # Filter DataFrame untuk hanya baris dengan lokasi ini\n",
        "    df_location = df3[df3['location'] == location]\n",
        "\n",
        "    # Mengubah data harian menjadi data bulanan dengan mengambil rata-rata setiap bulan\n",
        "    # Hanya kolom numerik yang akan dirata-ratakan\n",
        "    df_location_monthly = df_location.select_dtypes(include=['float64', 'int64']).resample('M').mean()\n",
        "\n",
        "    # Menambahkan kembali kolom 'location' ke df_location_monthly\n",
        "    df_location_monthly['location'] = location\n",
        "\n",
        "    # Menambahkan df_location_monthly ke df_monthly\n",
        "    df_monthly = pd.concat([df_monthly, df_location_monthly])\n",
        "\n",
        "# Mengatur ulang index\n",
        "df_monthly.reset_index(inplace=True)"
      ],
      "metadata": {
        "id": "WY-9h2obH8T1",
        "collapsed": true
      },
      "execution_count": null,
      "outputs": []
    },
    {
      "cell_type": "code",
      "source": [
        "df3.info()"
      ],
      "metadata": {
        "id": "5QhZu-tRQyL3"
      },
      "execution_count": null,
      "outputs": []
    },
    {
      "cell_type": "code",
      "source": [
        "df_monthly.head()"
      ],
      "metadata": {
        "id": "W5-8VmhR5inX"
      },
      "execution_count": null,
      "outputs": []
    },
    {
      "cell_type": "code",
      "source": [
        "# # Mengurutkan DataFrame berdasarkan tahun dalam kolom 'date'\n",
        "df_monthly = df_monthly.sort_values(by='date')"
      ],
      "metadata": {
        "id": "0tsCRgxpD5R5"
      },
      "execution_count": null,
      "outputs": []
    },
    {
      "cell_type": "code",
      "source": [
        "# Define columns that have an object data type\n",
        "object_cols = df_monthly.select_dtypes(include=['object']).columns\n",
        "\n",
        "# Displays the unique value from object column\n",
        "for col in object_cols:\n",
        "    print(f\"Nilai unik di kolom {col}:\")\n",
        "    print(df_monthly[col].unique())"
      ],
      "metadata": {
        "id": "T1V55tH5nu5c"
      },
      "execution_count": null,
      "outputs": []
    },
    {
      "cell_type": "code",
      "source": [
        "# Displays values with low frequency for each columns\n",
        "for col in object_cols:\n",
        "    print(f\"Frekuensi nilai di kolom {col}:\")\n",
        "    print(df_monthly[col].value_counts())"
      ],
      "metadata": {
        "id": "YwXnixjjnr_1"
      },
      "execution_count": null,
      "outputs": []
    },
    {
      "cell_type": "code",
      "source": [
        "df_monthly.info()"
      ],
      "metadata": {
        "id": "DKNZJtFg7iTb"
      },
      "execution_count": null,
      "outputs": []
    },
    {
      "cell_type": "code",
      "source": [
        "# Get all columns from dataframe\n",
        "cols = df_monthly.columns.tolist()\n",
        "cols.insert(1, cols.pop(cols.index('location')))\n",
        "\n",
        "# Rechange dataframe with new columns list\n",
        "df_monthly = df_monthly[cols]"
      ],
      "metadata": {
        "id": "YJJElpZi7j1G"
      },
      "execution_count": null,
      "outputs": []
    },
    {
      "cell_type": "code",
      "source": [
        "# Buat list urutan kota\n",
        "urutan_kota = [\n",
        "    \"Kabupaten Bogor\",\n",
        "    \"Kabupaten Sukabumi\",\n",
        "    \"Kabupaten Cianjur\",\n",
        "    \"Kabupaten Bandung\",\n",
        "    \"Kabupaten Garut\",\n",
        "    \"Kabupaten Tasikmalaya\",\n",
        "    \"Kabupaten Ciamis\",\n",
        "    \"Kabupaten Kuningan\",\n",
        "    \"Kabupaten Cirebon\",\n",
        "    \"Kabupaten Majalengka\",\n",
        "    \"Kabupaten Sumedang\",\n",
        "    \"Kabupaten Indramayu\",\n",
        "    \"Kabupaten Subang\",\n",
        "    \"Kabupaten Purwakarta\",\n",
        "    \"Kabupaten Karawang\",\n",
        "    \"Kabupaten Bekasi\",\n",
        "    \"Kabupaten Bandung Barat\",\n",
        "    \"Kabupaten Pangandaran\",\n",
        "    \"Kota Bogor\",\n",
        "    \"Kota Sukabumi\",\n",
        "    \"Kota Bandung\",\n",
        "    \"Kota Cirebon\",\n",
        "    \"Kota Bekasi\",\n",
        "    \"Kota Depok\",\n",
        "    \"Kota Cimahi\",\n",
        "    \"Kota Tasikmalaya\",\n",
        "    \"Kota Banjar\"\n",
        "]\n",
        "\n",
        "# Buat kolom baru untuk urutan kota\n",
        "df_monthly['urutan'] = pd.Categorical(df_monthly['location'], categories=urutan_kota, ordered=True)\n",
        "\n",
        "# # Ubah kolom 'tanggal' menjadi tipe datetime\n",
        "# df_monthly['date'] = pd.to_datetime(df_monthly['date'])\n",
        "\n",
        "# # Set kolom 'tanggal' sebagai index\n",
        "# df_monthly.set_index('date', inplace=True)\n",
        "\n",
        "# # Resample data menjadi bulanan dan hitung rata-rata\n",
        "# df_monthly = df_monthly.groupby('location').resample('M').mean().reset_index()\n",
        "\n",
        "# Urutkan data berdasarkan urutan kota dan tanggal\n",
        "df_monthly['urutan'] = pd.Categorical(df_monthly['location'], categories=urutan_kota, ordered=True)\n",
        "df_monthly = df_monthly.sort_values(by=['date', 'urutan'])"
      ],
      "metadata": {
        "id": "38twrMD2Ue1E"
      },
      "execution_count": null,
      "outputs": []
    },
    {
      "cell_type": "code",
      "source": [
        "print(df_monthly[['location', 'urutan']].head())"
      ],
      "metadata": {
        "id": "UgAnhGC9nKaB"
      },
      "execution_count": null,
      "outputs": []
    },
    {
      "cell_type": "code",
      "source": [
        "df_monthly"
      ],
      "metadata": {
        "id": "GixHAxXPU6b3"
      },
      "execution_count": null,
      "outputs": []
    },
    {
      "cell_type": "markdown",
      "source": [
        "Save dataframe to CSV file"
      ],
      "metadata": {
        "id": "T7TK36RKB9EO"
      }
    },
    {
      "cell_type": "code",
      "source": [
        "# Menyimpan DataFrame yang telah diatur ulang ke file CSV\n",
        "df_monthly.to_csv('agroclimatology_data_of_Jawa_Barat.csv', index=False)"
      ],
      "metadata": {
        "id": "gd6MvKQ_BlKU"
      },
      "execution_count": null,
      "outputs": []
    },
    {
      "cell_type": "code",
      "source": [
        "df5 = pd.read_csv('/content/produktivitas_padi-2018-2023.csv', sep=';')\n",
        "df5.head()"
      ],
      "metadata": {
        "id": "RNnqnR0AoW6V"
      },
      "execution_count": null,
      "outputs": []
    },
    {
      "cell_type": "code",
      "source": [
        "# Membuat mapping bulan ke angka\n",
        "bulan_mapping = {\n",
        "    'JANUARI': 1,\n",
        "    'FEBRUARI': 2,\n",
        "    'MARET': 3,\n",
        "    'APRIL': 4,\n",
        "    'MEI': 5,\n",
        "    'JUNI': 6,\n",
        "    'JULI': 7,\n",
        "    'AGUSTUS': 8,\n",
        "    'SEPTEMBER': 9,\n",
        "    'OKTOBER': 10,\n",
        "    'NOVEMBER': 11,\n",
        "    'DESEMBER': 12\n",
        "}\n",
        "\n",
        "# Mengubah nama bulan menjadi angka\n",
        "df5['bulan1'] = df5['bulan'].map(bulan_mapping)\n",
        "\n",
        "# Menampilkan hasil\n",
        "print(df5[['bulan1', 'bulan']].drop_duplicates().sort_values('bulan1'))"
      ],
      "metadata": {
        "id": "-1UoIRgLoxPx"
      },
      "execution_count": null,
      "outputs": []
    },
    {
      "cell_type": "code",
      "source": [
        "df5 = df5.sort_values(by=['tahun', 'bulan'])\n",
        "df5"
      ],
      "metadata": {
        "id": "VU6AkXjlpePA"
      },
      "execution_count": null,
      "outputs": []
    },
    {
      "cell_type": "code",
      "source": [
        "df5.to_csv('produkpadi.csv', index=False)\n"
      ],
      "metadata": {
        "id": "4Jr3VRKsrH5-"
      },
      "execution_count": null,
      "outputs": []
    },
    {
      "cell_type": "markdown",
      "source": [
        "# 5. Merge agroclimatologi with rice productions dataset"
      ],
      "metadata": {
        "id": "8lwbK3mYJH9k"
      }
    },
    {
      "cell_type": "code",
      "source": [
        "import pandas as pd\n",
        "# Baca file CSV\n",
        "df4 = pd.read_csv('agroclimatology_data_of_Jawa_Barat.csv', sep=',')\n",
        "df6 = pd.read_csv('/content/produkpadi.csv', sep=',')\n",
        "\n",
        "# Menggabungkan DataFrame berdasarkan susunan barisannya\n",
        "merged = pd.concat([df4, df6], axis=1)\n",
        "\n",
        "# Menyimpan hasil penggabungan ke file CSV baru\n",
        "merged.to_csv('merged_file.csv')"
      ],
      "metadata": {
        "id": "WkWba65kJPW4"
      },
      "execution_count": null,
      "outputs": []
    },
    {
      "cell_type": "code",
      "source": [
        "merged"
      ],
      "metadata": {
        "id": "KuhBta3Le3yy"
      },
      "execution_count": null,
      "outputs": []
    },
    {
      "cell_type": "code",
      "source": [
        "merged.info()"
      ],
      "metadata": {
        "id": "HX9rA0zKewZ1"
      },
      "execution_count": null,
      "outputs": []
    },
    {
      "cell_type": "code",
      "source": [
        "df5.info()"
      ],
      "metadata": {
        "id": "N0kIetHWbW_B"
      },
      "execution_count": null,
      "outputs": []
    },
    {
      "cell_type": "code",
      "source": [
        "df4.info()"
      ],
      "metadata": {
        "id": "KRSV8VBTeWLo"
      },
      "execution_count": null,
      "outputs": []
    },
    {
      "cell_type": "code",
      "source": [
        "print(df4['location'].nunique())\n",
        "print(df5['location'].nunique())"
      ],
      "metadata": {
        "id": "ACR8I9F3eXpY"
      },
      "execution_count": null,
      "outputs": []
    },
    {
      "cell_type": "code",
      "source": [
        "print(df4['location'].duplicated().sum())\n",
        "print(df5['location'].duplicated().sum())"
      ],
      "metadata": {
        "id": "Mc_7Qhoagcdi"
      },
      "execution_count": null,
      "outputs": []
    },
    {
      "cell_type": "code",
      "source": [],
      "metadata": {
        "id": "dRJoyVhbNksf"
      },
      "execution_count": null,
      "outputs": []
    }
  ],
  "metadata": {
    "colab": {
      "provenance": [],
      "authorship_tag": "ABX9TyPGjkHA36mOU40h35wrSlsR"
    },
    "kernelspec": {
      "display_name": "Python 3",
      "name": "python3"
    },
    "language_info": {
      "name": "python"
    }
  },
  "nbformat": 4,
  "nbformat_minor": 0
}